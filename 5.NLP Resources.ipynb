{
 "cells": [
  {
   "cell_type": "markdown",
   "metadata": {},
   "source": [
    "\n",
    "# Natural Language Processing and Voice Recognition Resources\n",
    "\n",
    "I’ve been collecting resources on voice recognition and natural language processing (NLP) for several months and I have enough to share with you. If you’re interested in this stuff, I hope this helps.\n",
    "Courses and Tutorials\n",
    "\n",
    "*    [Behind the Mic: The Science of Talking to Computers]('https://www.youtube.com/watch?v=yxxRAHVtafI')\n",
    "*    [Interacting with Particle Device Using Slack and NLP]('https://www.hackster.io/krvarma/interacting-with-particle-device-using-slack-and-nlp-458714?ref=platform&ref_id=286_trending___&offset=21')\n",
    "*    [Getting Started with Speech Recognition (Microsoft)]('https://docs.microsoft.com/en-us/previous-versions/office/developer/speech-technologies/hh361683(v=office.14)')\n",
    "*    [Get Started with Speech Recognition (Hackaday)]('https://hackaday.com/2010/07/09/get-started-with-speech-recognition/')\n",
    "*    [MIT OCW Automatic Speech Recognition]('https://ocw.mit.edu/courses/electrical-engineering-and-computer-science/6-345-automatic-speech-recognition-spring-2003/')\n",
    "*    [The Scientist and Engineer’s Guide to Digital Signal Processing, Steven W. Smith, Ph.D.]('http://www.dspguide.com/pdfbook.htm')\n",
    "*    [Stanford Natural Language Processing Course]('https://www.youtube.com/watch?v=nfoudtpBV68&list=PL4LJlvG_SDpxQAwZYtwfXcQr7kGnl9W93')\n",
    "*    [Columbia Natural Language Processing Course]('http://www.cs.columbia.edu/~cs4705/')\n",
    "*    [University of Michigan NLP Course]('https://www.youtube.com/playlist?list=PLLssT5z_DsK8BdawOVCCaTCO99Ya58ryR')\n",
    "*    [NLP Project Ideas]('http://web.stanford.edu/class/cs224n/handouts/final-project-ideas.pdf')\n",
    "*    [O’Reilly Design for Voice Interfaces]('https://www.oreilly.com/ideas/design-for-voice-interfaces')\n",
    "*    [Python Programming for the Humanities]('http://www.karsdorp.io/python-course/')\n",
    "\n",
    "# Libraries and Tools\n",
    "\n",
    "*    [Echosim – online Alexa testing tool]('https://echosim.io/welcome?next=%2F:')\n",
    "*    [NLTK – Natural Language Toolkit (Python)]('http://www.nltk.org/')\n",
    "*    [Codeplex]('https://archive.codeplex.com/?p=voicerecorder')\n",
    "*    [Alexa Voice Service]('https://developer.amazon.com/alexa-voice-service')\n",
    "*    [API.ai]('https://dialogflow.com/')\n",
    "*    [Google SyntaxNet]('https://ai.googleblog.com/2016/05/announcing-syntaxnet-worlds-most.html')\n",
    "*    [Wit.ai]('https://wit.ai/')\n",
    "*    [NLP Compromise]('https://nlp-compromise.github.io/')\n",
    "*    [Tracery]('https://github.com/galaxykate/tracery/blob/master/js/tracery.min.js')\n",
    "\n",
    "# Voice Banks and Corpii\n",
    "\n",
    "*    [Forvo – all the worlds in the world pronounced by native speakers]('https://forvo.com/')\n",
    "*    [Vocal ID – the Human Voicebank]('https://www.vocalid.co/voicebank')\n",
    "*    [Shtooka – multilingual database of audio recordings of words and sentences]('http://shtooka.net/')\n",
    "*    [International Dialects of English Archive]('https://www.dialectsarchive.com/')\n",
    "\n",
    "# Examples\n",
    "\n",
    "*   [Hedonometer]('http://hedonometer.org/about.html')\n",
    "*   [Senti]('http://hedonometer.org/about.html')\n",
    "\n",
    "# Papers / Research\n",
    "\n",
    "*   [Automatic Speech Recognition for the Filipino Language Using the HTK System]('http://worldcomp-proceedings.com/proc/p2014/ICA3221.pdf')\n",
    "*   [A Challenge Dataset for the Machine Comprehension of Text]('https://www.microsoft.com/en-us/research/lab/microsoft-research-redmond/?from=http%3A%2F%2Fresearch.microsoft.com%2Fen-us%2Fum%2Fredmond%2Fprojects%2Fmctest%2F')\n",
    "*   [FiliText: A Filipino Hands-Free Text Messaging Application]('http://www.dlsu.edu.ph/research/centers/adric/nlp/_archive/8th-NNLRS/8nnlprs-58.pdf')\n",
    "*   [ ACL Anthology]('http://aclweb.org/anthology/')\n",
    "\n"
   ]
  },
  {
   "cell_type": "code",
   "execution_count": null,
   "metadata": {},
   "outputs": [],
   "source": []
  }
 ],
 "metadata": {
  "kernelspec": {
   "display_name": "Python 3",
   "language": "python",
   "name": "python3"
  },
  "language_info": {
   "codemirror_mode": {
    "name": "ipython",
    "version": 3
   },
   "file_extension": ".py",
   "mimetype": "text/x-python",
   "name": "python",
   "nbconvert_exporter": "python",
   "pygments_lexer": "ipython3",
   "version": "3.6.5rc1"
  }
 },
 "nbformat": 4,
 "nbformat_minor": 2
}
